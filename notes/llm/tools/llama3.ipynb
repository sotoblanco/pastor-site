{
 "cells": [
  {
   "cell_type": "raw",
   "id": "f0f47601",
   "metadata": {},
   "source": [
    "---\n",
    "title: Llama-3 Func Calling\n",
    "description: An example of how to use the Llama-3 model to call functions with prompting only.\n",
    "---"
   ]
  },
  {
   "cell_type": "markdown",
   "id": "b9a06308-c7cb-4aba-b39e-35267d2fac01",
   "metadata": {},
   "source": [
    "**Inference [code with prompt is located here](https://github.com/hamelsmu/replicate-examples/blob/master/cog-vllm-tools/predict.py).**"
   ]
  },
  {
   "cell_type": "markdown",
   "id": "04ddd835-1568-43d8-b362-ecec0e4d737c",
   "metadata": {},
   "source": [
    "## Setup"
   ]
  },
  {
   "cell_type": "code",
   "execution_count": null,
   "id": "4e99a4dc-002c-4cb1-9813-196ca6ced6c5",
   "metadata": {
    "vscode": {
     "languageId": "python"
    }
   },
   "outputs": [],
   "source": [
    "import replicate\n",
    "from pydantic import create_model\n",
    "import inspect, json, re\n",
    "from inspect import Parameter\n",
    "from fastcore.foundation import L\n",
    "from functools import partial\n",
    "from pprint import pprint"
   ]
  },
  {
   "cell_type": "markdown",
   "id": "4cc302c1-da1f-47d9-8420-11464c7654b5",
   "metadata": {},
   "source": [
    "The following collapsible element contains helper functions for [the Replicate inference API](https://replicate.com/hamelsmu/llama-3-70b-instruct-awq-with-tools) and parsing the response:"
   ]
  },
  {
   "cell_type": "code",
   "execution_count": null,
   "id": "e508409d-b643-4bdd-a2c2-b4f475fe7c80",
   "metadata": {
    "vscode": {
     "languageId": "python"
    }
   },
   "outputs": [],
   "source": [
    "#|code-fold: true\n",
    "#|code-summary: Unhide to see code\n",
    "def parse(text):\n",
    "    \"\"\"Use regular expressions to find content within the tags.\"\"\"\n",
    "    \n",
    "    function_call_search = re.search(r\"<function-call>\\s*(.*?)\\s*</function-call>\", text, re.DOTALL)\n",
    "    answer_search = re.search(r\"<answer>\\s*(.*?)\\s*</answer>\", text, re.DOTALL)\n",
    "    function_call = function_call_search.group(1).strip() if function_call_search else None\n",
    "    answer = answer_search.group(1).strip() if answer_search else None\n",
    "    \n",
    "    if function_call and function_call != \"None\": return {\"type\": \"function-call\", \"content\": function_call}\n",
    "    elif answer: return {\"type\": \"text\", \"content\": answer}\n",
    "    else: return {\"type\": \"text\", \"content\": text}\n",
    "\n",
    "\n",
    "def run(prompt:str, tools:str=None):\n",
    "    inp = {\"prompt\": f\"{prompt}\", \"temperature\": 0}\n",
    "    if tools: inp['tools'] = tools\n",
    "    output = replicate.run(\n",
    "        \"hamelsmu/llama-3-70b-instruct-awq-with-tools:b6042c085a7927a3d87e065a9f51fb7238ef6870c7a2ab7b03caa3c0e9413e19\",\n",
    "        input=inp\n",
    "        )\n",
    "    txt = ''.join(output)\n",
    "    return parse(txt) "
   ]
  },
  {
   "cell_type": "markdown",
   "id": "950f53ed-fa84-48a0-8cc9-d78ad3b964ac",
   "metadata": {},
   "source": [
    "A helper to help turn functions into a schema from [fastai/llm-hackers](https://github.com/fastai/lm-hackers/blob/main/lm-hackers.ipynb)"
   ]
  },
  {
   "cell_type": "code",
   "execution_count": null,
   "id": "92074773-071c-468f-93c2-c043c3957257",
   "metadata": {
    "vscode": {
     "languageId": "python"
    }
   },
   "outputs": [],
   "source": [
    "#|code-fold: false\n",
    "#|code-summary: Python functions -> JSON schema\n",
    "\n",
    "def schema(f):\n",
    "    kw = {n:(o.annotation, ... if o.default==Parameter.empty else o.default)\n",
    "          for n,o in inspect.signature(f).parameters.items()}\n",
    "    s = create_model(f'Input for `{f.__name__}`', **kw).schema()\n",
    "    return dict(name=f.__name__, description=f.__doc__, parameters=s)"
   ]
  },
  {
   "cell_type": "markdown",
   "id": "90dfb938-ca47-4551-8e54-99e2cc6152a1",
   "metadata": {},
   "source": [
    "Lets define two tools:"
   ]
  },
  {
   "cell_type": "code",
   "execution_count": null,
   "id": "5eb4e691-f164-40c3-8c1e-d57d041a6f23",
   "metadata": {
    "vscode": {
     "languageId": "python"
    }
   },
   "outputs": [],
   "source": [
    "def get_exchange_rate(base_currency:str, target_currency:str):\n",
    "    \"\"\"\n",
    "    Get the exchange rate between two currencies.\n",
    "    \n",
    "    Parameters:\n",
    "    - base_currency (str): The currency to convert from.\n",
    "    - target_currency (str): The currency to convert to.\n",
    "    \n",
    "    Returns:\n",
    "    float: The exchange rate from base_currency to target_currency.\n",
    "    \"\"\"\n",
    "    ...\n",
    "\n",
    "def create_contact(name:str, email:str):\n",
    "    \"\"\"\n",
    "    Create a new contact.\n",
    "    \n",
    "    Parameters:\n",
    "    - name (str): The name of the contact.\n",
    "    - email (str): The email address of the contact.\n",
    "    \n",
    "    Returns:\n",
    "    dict: Confirmation of the created contact.\n",
    "    \"\"\"\n",
    "    ...\n",
    "\n",
    "tools = json.dumps(list(L([get_exchange_rate, create_contact]).map(schema)))"
   ]
  },
  {
   "cell_type": "markdown",
   "id": "cf29f99d-d7bd-4be5-a5cc-41b76af56681",
   "metadata": {},
   "source": [
    "## The Demo"
   ]
  },
  {
   "cell_type": "markdown",
   "id": "f5459de9-2391-452f-b849-1ffc72fd37a5",
   "metadata": {},
   "source": [
    "### Scenario 1A: No tool required to answer question\n",
    "> even though tool is provided"
   ]
  },
  {
   "cell_type": "code",
   "execution_count": null,
   "id": "6c0144da-4255-4c88-a9b4-cc2ef7ad291b",
   "metadata": {
    "vscode": {
     "languageId": "python"
    }
   },
   "outputs": [
    {
     "name": "stdout",
     "output_type": "stream",
     "text": [
      "{'content': 'Search Engine Optimization (SEO) is crucial for online '\n",
      "            'visibility.',\n",
      " 'type': 'text'}\n"
     ]
    }
   ],
   "source": [
    "o1a = run(prompt=\"Write a very short sentence about SEO.\",\n",
    "          tools=tools)\n",
    "pprint(o1a)"
   ]
  },
  {
   "cell_type": "markdown",
   "id": "97d166a0-5d88-40ed-8904-ff9798b7284e",
   "metadata": {},
   "source": [
    "### Scenario 1B: No tool required to answer question\n",
    "> no tools are provided"
   ]
  },
  {
   "cell_type": "code",
   "execution_count": null,
   "id": "524e7710-9a9a-44c8-acf5-d9dce886ecb7",
   "metadata": {
    "vscode": {
     "languageId": "python"
    }
   },
   "outputs": [
    {
     "name": "stdout",
     "output_type": "stream",
     "text": [
      "{'content': 'Here is a very short sentence about SEO:\\n'\n",
      "            '\\n'\n",
      "            '\"Optimizing website content with relevant keywords improves '\n",
      "            'search engine rankings.\"',\n",
      " 'type': 'text'}\n"
     ]
    }
   ],
   "source": [
    "o1b = run(prompt=\"Write a very short sentence about SEO.\",\n",
    "          tools=None)\n",
    "pprint(o1b)"
   ]
  },
  {
   "cell_type": "markdown",
   "id": "fa0a1532-608e-4aa2-bc5f-10a2c318fa66",
   "metadata": {},
   "source": [
    "### Scenario 2: Tool is reqiured to answer question"
   ]
  },
  {
   "cell_type": "code",
   "execution_count": null,
   "id": "31dc7067-5275-4c27-8734-d1856b293d30",
   "metadata": {
    "vscode": {
     "languageId": "python"
    }
   },
   "outputs": [
    {
     "name": "stdout",
     "output_type": "stream",
     "text": [
      "{'content': 'get_exchange_rate(base_currency=\"USD\", target_currency=\"JPY\")',\n",
      " 'type': 'function-call'}\n"
     ]
    }
   ],
   "source": [
    "o2 = run(prompt=\"How many Japenese Yen are there in 1000 USD?\",\n",
    "        tools=tools)\n",
    "pprint(o2)"
   ]
  },
  {
   "cell_type": "markdown",
   "id": "bbe24790-476e-4646-9acf-4f9ca1c1d10f",
   "metadata": {},
   "source": [
    "### Scenario 3A: Tool reqiured but not enough info in the prompt for the params"
   ]
  },
  {
   "cell_type": "code",
   "execution_count": null,
   "id": "fe1bb18f-08b8-465c-ba88-d84845dcf129",
   "metadata": {
    "vscode": {
     "languageId": "python"
    }
   },
   "outputs": [
    {
     "name": "stdout",
     "output_type": "stream",
     "text": [
      "{'content': \"I'd be happy to help you add Hamel Husain to your address book! \"\n",
      "            'However, I need more information from you. Could you please '\n",
      "            \"provide Hamel's email address? Once I have that, I can assist you \"\n",
      "            'in adding the contact.',\n",
      " 'type': 'text'}\n"
     ]
    }
   ],
   "source": [
    "o3a = run(prompt=\"Can you help me add a Hamel Husain to my address book?\",\n",
    "        tools=tools)\n",
    "pprint(o3a)"
   ]
  },
  {
   "cell_type": "markdown",
   "id": "90967994-f9e9-4874-b029-f2fc288fef4e",
   "metadata": {},
   "source": [
    "### Scenario 3B: Tool required, there is enough info in the prompt"
   ]
  },
  {
   "cell_type": "code",
   "execution_count": null,
   "id": "e06a9072-7013-4918-ad91-3be3701ab8c2",
   "metadata": {
    "vscode": {
     "languageId": "python"
    }
   },
   "outputs": [
    {
     "name": "stdout",
     "output_type": "stream",
     "text": [
      "{'content': 'create_contact(name=\"Hamel Husain\", email=\"h@fmail.com\")',\n",
      " 'type': 'function-call'}\n"
     ]
    }
   ],
   "source": [
    "o3b = run(prompt=\"Can you help me add a Hamel Husain to my address book?\\\n",
    "                  His email address is h@fmail.com\",\n",
    "        tools=tools)\n",
    "pprint(o3b)"
   ]
  },
  {
   "cell_type": "code",
   "execution_count": null,
   "id": "732292c4-187c-4453-84c2-a0d70f843446",
   "metadata": {
    "vscode": {
     "languageId": "python"
    }
   },
   "outputs": [],
   "source": []
  }
 ],
 "metadata": {
  "kernelspec": {
   "display_name": "python3",
   "language": "python",
   "name": "python3"
  }
 },
 "nbformat": 4,
 "nbformat_minor": 5
}
