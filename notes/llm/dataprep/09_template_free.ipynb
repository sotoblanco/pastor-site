{
 "cells": [
  {
   "cell_type": "raw",
   "id": "039233ef-48d7-4808-b3b9-eb01ece829db",
   "metadata": {},
   "source": [
    "---\n",
    "title: Template-free axolotl\n",
    "description: \"Template-free prompt construction in axolotl with the new `input_output` format.\"\n",
    "---"
   ]
  },
  {
   "cell_type": "markdown",
   "id": "36e128bf-dd37-4fd3-ad28-3ade46e6d548",
   "metadata": {},
   "source": [
    "## Background"
   ]
  },
  {
   "attachments": {},
   "cell_type": "markdown",
   "id": "076ce08f-f058-4d33-9192-c4ef4d112533",
   "metadata": {},
   "source": [
    "### Masking Inputs\n",
    "\n",
    "One of the most popular features of [axolotl](https://github.com/OpenAccess-AI-Collective/axolotl) is setting the following configuration value:\n",
    "\n",
    "```{.yaml filename=\"config.yml\"}\n",
    "train_on_inputs: false\n",
    "```\n",
    "\n",
    "If you declare a [dataset formats](https://github.com/OpenAccess-AI-Collective/axolotl?tab=readme-ov-file#dataset) such as `alpaca` or `chatml`, axolotl knows what is an input (i.e. human) vs. an output (i.e. the assistant) and masks the input labels so that your model can focus on the predicting the outputs only.\n",
    "\n",
    "### You may not want prompt templates\n",
    "\n",
    "However, there are many situations where you don't want to use one of these formats or templates (I usually don't!).  This is because they can:\n",
    "\n",
    "- Add unnecessary boilerplate to your prompts.\n",
    "- Create artifacts like special delimiters `<|im_start|>` that can quickly become footguns if you don't include them correctly at inference time.\n",
    "- Enforce a _chat_ interface when you do not want one.  Sometimes you just want to fine tune a model to a very specific task and do NOT want multi-turn conversations, roles, etc.\n",
    "- Limit you to only certain roles that the template allows.\n",
    "\n",
    "### The `input_output` format\n",
    "\n",
    "You can construct your prompts without a template by using the `input_output` format, by setting `type: input_output` in your configuration file like this:\n",
    "\n",
    "```{.yaml filename=\"config.yml\"}\n",
    "train_on_inputs: false # Mask segments of your data\n",
    "datasets:\n",
    "  - path: output.jsonl\n",
    "    type: input_output  # use template free prompt construction\n",
    "```\n",
    "\n",
    "Unlike `type: completion`, which is also template-free, `type: input_output` allows you to mask segments of your text. More details on how this works is described below.\n",
    "\n",
    "## Usage\n",
    "\n",
    "This is how you can use the `input_output` format:\n",
    "\n",
    "### 1. Prepare Data"
   ]
  },
  {
   "cell_type": "code",
   "execution_count": null,
   "id": "ee7907fc-7b53-46c3-a8c9-5847734bb094",
   "metadata": {},
   "outputs": [],
   "source": [
    "#| code-overflow: wrap\n",
    "#| include: false\n",
    "import json\n",
    "\n",
    "data = {\"segments\": [\n",
    "            {\"label\": True, \"text\": \"<s>Hello\\n\"},\n",
    "            {\"label\": True, \"text\": \"hi there!. \"},\n",
    "            {\"label\": False, \"text\": \"goodbye \"},\n",
    "            {\"label\": True, \"text\": \"farewell</s>\"}]\n",
    "}\n",
    "\n",
    "with open(\"output.jsonl\", \"w\") as file:\n",
    "    for _ in range(500):\n",
    "        file.write(json.dumps(data) + \"\\n\")"
   ]
  },
  {
   "cell_type": "markdown",
   "id": "d0c98066-6607-4b9c-bcac-c145f0b3f416",
   "metadata": {},
   "source": [
    "To use the `input_output` format, collect your data in the following format into a jsonl file (below is the first row from the file `output.jsonl` pretty-printed):"
   ]
  },
  {
   "cell_type": "code",
   "execution_count": null,
   "id": "876016ab-8e3b-4649-9fa9-af5eea2179a7",
   "metadata": {},
   "outputs": [
    {
     "name": "stdout",
     "output_type": "stream",
     "text": [
      "{\n",
      "    \"segments\": [\n",
      "        {\n",
      "            \"label\": true,\n",
      "            \"text\": \"<s>Hello\\n\"\n",
      "        },\n",
      "        {\n",
      "            \"label\": true,\n",
      "            \"text\": \"hi there!. \"\n",
      "        },\n",
      "        {\n",
      "            \"label\": false,\n",
      "            \"text\": \"goodbye \"\n",
      "        },\n",
      "        {\n",
      "            \"label\": true,\n",
      "            \"text\": \"farewell</s>\"\n",
      "        }\n",
      "    ]\n",
      "}\n"
     ]
    }
   ],
   "source": [
    "! head -n1 output.jsonl | python -m json.tool"
   ]
  },
  {
   "cell_type": "markdown",
   "id": "fc27e833-e971-45d7-ab4b-902f978e9204",
   "metadata": {},
   "source": [
    "Set `label:false` when you want to mask a segment of text so that the model isn't trained on it.  Some things to keep in mind:\n",
    "\n",
    "1. **EOS, BOS, spaces, newlines etc. are entirely up to you.  Axolotl concatenates all the segments as-is.**  The tokenizer doesn't add anything additional.  Notice how I added spaces, newlines, `<s>` (BOS), and `</s>` (EOS) myself.\n",
    "2. Make sure you check the materialized output to validate that the prompt is getting assembled how you like."
   ]
  },
  {
   "cell_type": "markdown",
   "id": "077dc01f-40ab-4634-af2b-bfaf4c0e09af",
   "metadata": {},
   "source": [
    "### 3. Use `type: input_output`\n",
    "\n",
    "Let's materialize data with our `output.jsonl` file by setting `type: input_output` in our axolotl config:"
   ]
  },
  {
   "cell_type": "code",
   "execution_count": null,
   "id": "dc3b0cfc-8c03-403a-846b-2d107364b936",
   "metadata": {},
   "outputs": [
    {
     "name": "stdout",
     "output_type": "stream",
     "text": [
      "Overwriting training_config.yaml\n"
     ]
    }
   ],
   "source": [
    "%%writefile training_config.yaml\n",
    "base_model: mistralai/Mistral-7B-v0.1\n",
    "data_seed: 49\n",
    "seed: 49\n",
    "\n",
    "datasets:\n",
    "  - path: output.jsonl\n",
    "    type: input_output \n",
    "val_set_size: 0.1\n",
    "\n",
    "sequence_len: 896\n",
    "sample_packing: false\n",
    "\n",
    "micro_batch_size: 2\n",
    "gradient_accumulation_steps: 3\n",
    "eval_batch_size: 2\n",
    "num_epochs: 1\n",
    "learning_rate: 0.0002\n",
    "\n",
    "train_on_inputs: false\n",
    "special_tokens:\n",
    "  bos_token: \"<s>\"\n",
    "  eos_token: \"</s>\"\n",
    "  unk_token: \"<unk>\""
   ]
  },
  {
   "cell_type": "markdown",
   "id": "3948981c-3ee2-46a8-8743-530aec8e1d39",
   "metadata": {},
   "source": [
    "You can use the following command to materialize your data.  The `--debug` flag will print the tokens, along with the labels so you can verify that the correct items are being ignored:"
   ]
  },
  {
   "cell_type": "code",
   "execution_count": null,
   "id": "49b1c483-8855-4543-b20b-c5fe9695f229",
   "metadata": {},
   "outputs": [
    {
     "name": "stdout",
     "output_type": "stream",
     "text": [
      "[2024-03-05 23:36:41,948] [INFO] [real_accelerator.py:191:get_accelerator] Setting ds_accelerator to cuda (auto detect)\n",
      "                                 dP            dP   dP \n",
      "                                 88            88   88 \n",
      "      .d8888b. dP.  .dP .d8888b. 88 .d8888b. d8888P 88 \n",
      "      88'  `88  `8bd8'  88'  `88 88 88'  `88   88   88 \n",
      "      88.  .88  .d88b.  88.  .88 88 88.  .88   88   88 \n",
      "      `88888P8 dP'  `dP `88888P' dP `88888P'   dP   dP \n",
      "                                                       \n",
      "                                                       \n",
      "\n",
      "[2024-03-05 23:36:43,224] [INFO] [axolotl.normalize_config:178] [PID:607731] [RANK:0] GPU memory usage baseline: 0.000GB (+0.498GB misc)\u001b[39m\n",
      "\u001b[33m[2024-03-05 23:36:43,333] [WARNING] [axolotl.cli.preprocess.do_cli:54] [PID:607731] [RANK:0] \u001b[31mpreprocess CLI called without dataset_prepared_path set, using default path: last_run_prepared\u001b[39m\u001b[39m\n",
      "[2024-03-05 23:36:43,725] [DEBUG] [axolotl.load_tokenizer:245] [PID:607731] [RANK:0] EOS: 2 / </s>\u001b[39m\n",
      "[2024-03-05 23:36:43,725] [DEBUG] [axolotl.load_tokenizer:246] [PID:607731] [RANK:0] BOS: 1 / <s>\u001b[39m\n",
      "[2024-03-05 23:36:43,725] [DEBUG] [axolotl.load_tokenizer:247] [PID:607731] [RANK:0] PAD: 2 / </s>\u001b[39m\n",
      "[2024-03-05 23:36:43,725] [DEBUG] [axolotl.load_tokenizer:248] [PID:607731] [RANK:0] UNK: 0 / <unk>\u001b[39m\n",
      "[2024-03-05 23:36:43,725] [INFO] [axolotl.load_tokenizer:259] [PID:607731] [RANK:0] No Chat template selected. Consider adding a chat template for easier inference.\u001b[39m\n",
      "[2024-03-05 23:36:43,725] [INFO] [axolotl.load_tokenized_prepared_datasets:191] [PID:607731] [RANK:0] Unable to find prepared dataset in last_run_prepared/6c807fe9ce94fe4afac210baedaf3996\u001b[39m\n",
      "[2024-03-05 23:36:43,725] [INFO] [axolotl.load_tokenized_prepared_datasets:192] [PID:607731] [RANK:0] Loading raw datasets...\u001b[39m\n",
      "Downloading data files: 100%|██████████████████| 1/1 [00:00<00:00, 14169.95it/s]\n",
      "Extracting data files: 100%|████████████████████| 1/1 [00:00<00:00, 2332.76it/s]\n",
      "Generating train split: 500 examples [00:00, 128762.33 examples/s]\n",
      "Tokenizing Prompts (num_proc=64): 100%|█| 500/500 [00:01<00:00, 386.09 examples/\n",
      "[2024-03-05 23:36:46,074] [INFO] [axolotl.load_tokenized_prepared_datasets:414] [PID:607731] [RANK:0] merging datasets\u001b[39m\n",
      "[2024-03-05 23:36:46,079] [DEBUG] [axolotl.log:61] [PID:607731] [RANK:0] min_input_len: 14\u001b[39m\n",
      "[2024-03-05 23:36:46,080] [DEBUG] [axolotl.log:61] [PID:607731] [RANK:0] max_input_len: 14\u001b[39m\n",
      "Dropping Long Sequences (num_proc=72): 100%|█| 500/500 [00:00<00:00, 1895.44 exa\n",
      "[2024-03-05 23:36:46,943] [INFO] [axolotl.load_tokenized_prepared_datasets:424] [PID:607731] [RANK:0] Saving merged prepared dataset to disk... last_run_prepared/6c807fe9ce94fe4afac210baedaf3996\u001b[39m\n",
      "Saving the dataset (1/1 shards): 100%|█| 500/500 [00:00<00:00, 50445.05 examples\n",
      "[2024-03-05 23:36:46,965] [DEBUG] [axolotl.log:61] [PID:607731] [RANK:0] total_num_tokens: 7000\u001b[39m\n",
      "[2024-03-05 23:36:46,966] [DEBUG] [axolotl.log:61] [PID:607731] [RANK:0] `total_supervised_tokens: 5500`\u001b[39m\n",
      "[2024-03-05 23:36:46,966] [DEBUG] [axolotl.log:61] [PID:607731] [RANK:0] total_num_steps: 75\u001b[39m\n",
      "[2024-03-05 23:36:46,967] [INFO] [axolotl.scripts.load_datasets:387] [PID:607731] [RANK:0] check_dataset_labels...\u001b[39m\n",
      "[2024-03-05 23:36:46,969] [INFO] [axolotl.check_example_labels:35] [PID:607731] [RANK:0] \u001b[32m<s>\u001b[0m\u001b[97m(1, 1)\u001b[0m \u001b[32mHello\u001b[0m\u001b[97m(22557, 22557)\u001b[0m \u001b[32m\n",
      "\u001b[0m\u001b[97m(13, 13)\u001b[0m \u001b[32mhi\u001b[0m\u001b[97m(12014, 12014)\u001b[0m \u001b[32mthere\u001b[0m\u001b[97m(736, 736)\u001b[0m \u001b[32m!\u001b[0m\u001b[97m(28808, 28808)\u001b[0m \u001b[32m.\u001b[0m\u001b[97m(28723, 28723)\u001b[0m \u001b[32m\u001b[0m\u001b[97m(28705, 28705)\u001b[0m \u001b[31mgood\u001b[0m\u001b[97m(-100, 1179)\u001b[0m \u001b[31mbye\u001b[0m\u001b[97m(-100, 17664)\u001b[0m \u001b[31m\u001b[0m\u001b[97m(-100, 28705)\u001b[0m \u001b[32mfare\u001b[0m\u001b[97m(19111, 19111)\u001b[0m \u001b[32mwell\u001b[0m\u001b[97m(5458, 5458)\u001b[0m \u001b[32m</s>\u001b[0m\u001b[97m(2, 2)\u001b[0m\u001b[39m\n",
      "[2024-03-05 23:36:46,969] [INFO] [axolotl.check_example_labels:36] [PID:607731] [RANK:0] \n",
      "\n",
      "\n",
      "\u001b[39m\n",
      "[2024-03-05 23:36:46,969] [INFO] [axolotl.scripts.load_datasets:400] [PID:607731] [RANK:0] printing prompters...\u001b[39m\n",
      "[2024-03-05 23:36:46,969] [INFO] [axolotl.scripts.load_datasets:402] [PID:607731] [RANK:0] Pre-tokenized or custom dataset types are unsupported for logging\u001b[39m\n",
      "[2024-03-05 23:36:46,973] [INFO] [axolotl.cli.preprocess.do_cli:62] [PID:607731] [RANK:0] \u001b[32mSuccess! Preprocessed data path: `dataset_prepared_path: last_run_prepared`\u001b[39m\u001b[39m\n",
      "\u001b[0m"
     ]
    }
   ],
   "source": [
    "#| filter_stream: WARNING DEBUG get_accelerator normalize_config load_tokenizer load_tokenized_prepared_datasets log load_datasets do_cli check_example_labels\n",
    "! python -m axolotl.cli.preprocess training_config.yaml --debug"
   ]
  },
  {
   "cell_type": "markdown",
   "id": "3f537aa7-b0ac-4446-91e0-335765aa1f47",
   "metadata": {},
   "source": [
    "If you look closely, axolotl prints this to help you debug prompt construction (b/c we used the `--debug` flag):\n",
    "\n",
    "```{.md .code-overflow-wrap}\n",
    "<s>(1, 1) Hello(22557, 22557) (13, 13) hi(12014, 12014) there(736, 736) !(28808, 28808) .(28723, 28723) (28705, 28705) good(-100, 1179) bye(-100, 17664) (-100, 28705) fare(19111, 19111) well(5458, 5458) </s>(2, 2)\n",
    "```\n",
    "\n",
    "The format is `decoded_token`(`label`, `token_id`), for example, `<s>(1, 1)` means that the token is `<s>`, the label is `1` and the token_id is `1`.  When the label is `-100` then that token is ignored for training. \n"
   ]
  },
  {
   "cell_type": "markdown",
   "id": "439a005f-b75c-41a1-881d-5f57afc6c7dc",
   "metadata": {},
   "source": [
    "Here is another way to check the materialized output (that I personally like):"
   ]
  },
  {
   "cell_type": "code",
   "execution_count": null,
   "id": "60be82f7-8ff1-4614-94d9-6b7d6e72c737",
   "metadata": {},
   "outputs": [],
   "source": [
    "from transformers import AutoTokenizer\n",
    "from datasets import load_from_disk\n",
    "import yaml\n",
    "\n",
    "directory = !ls last_run_prepared/\n",
    "with open('training_config.yaml', 'r') as f:\n",
    "    cfg = yaml.safe_load(f)\n",
    "model_id = cfg['base_model']\n",
    "tok = AutoTokenizer.from_pretrained(model_id)\n",
    "ds = load_from_disk(f'last_run_prepared/{directory[0]}/')"
   ]
  },
  {
   "cell_type": "code",
   "execution_count": null,
   "id": "3483a0c7-ba08-41ba-94cf-dfd9483fda4b",
   "metadata": {},
   "outputs": [
    {
     "name": "stdout",
     "output_type": "stream",
     "text": [
      "<s> Hello\n",
      " hi there!.  goodbye  farewell</s>\n"
     ]
    }
   ],
   "source": [
    "row = ds[0]\n",
    "print(tok.decode(row['input_ids']))"
   ]
  },
  {
   "cell_type": "markdown",
   "id": "9bbdb07b-83f5-495b-acfb-77cec8706a0f",
   "metadata": {},
   "source": [
    "We can check that the right tokens are ingored by comparing the labels to each token:"
   ]
  },
  {
   "cell_type": "code",
   "execution_count": null,
   "id": "dafe4021-ec3f-421f-b0ee-00db610be6a6",
   "metadata": {},
   "outputs": [
    {
     "data": {
      "text/html": [
       "<div>\n",
       "<style scoped>\n",
       "    .dataframe tbody tr th:only-of-type {\n",
       "        vertical-align: middle;\n",
       "    }\n",
       "\n",
       "    .dataframe tbody tr th {\n",
       "        vertical-align: top;\n",
       "    }\n",
       "\n",
       "    .dataframe thead th {\n",
       "        text-align: right;\n",
       "    }\n",
       "</style>\n",
       "<table border=\"1\" class=\"dataframe\">\n",
       "  <thead>\n",
       "    <tr style=\"text-align: right;\">\n",
       "      <th></th>\n",
       "      <th>token</th>\n",
       "      <th>label</th>\n",
       "      <th>id</th>\n",
       "    </tr>\n",
       "  </thead>\n",
       "  <tbody>\n",
       "    <tr>\n",
       "      <th>0</th>\n",
       "      <td>&lt;s&gt;</td>\n",
       "      <td>1</td>\n",
       "      <td>1</td>\n",
       "    </tr>\n",
       "    <tr>\n",
       "      <th>1</th>\n",
       "      <td>Hello</td>\n",
       "      <td>22557</td>\n",
       "      <td>22557</td>\n",
       "    </tr>\n",
       "    <tr>\n",
       "      <th>2</th>\n",
       "      <td>\\n</td>\n",
       "      <td>13</td>\n",
       "      <td>13</td>\n",
       "    </tr>\n",
       "    <tr>\n",
       "      <th>3</th>\n",
       "      <td>hi</td>\n",
       "      <td>12014</td>\n",
       "      <td>12014</td>\n",
       "    </tr>\n",
       "    <tr>\n",
       "      <th>4</th>\n",
       "      <td>there</td>\n",
       "      <td>736</td>\n",
       "      <td>736</td>\n",
       "    </tr>\n",
       "    <tr>\n",
       "      <th>5</th>\n",
       "      <td>!</td>\n",
       "      <td>28808</td>\n",
       "      <td>28808</td>\n",
       "    </tr>\n",
       "    <tr>\n",
       "      <th>6</th>\n",
       "      <td>.</td>\n",
       "      <td>28723</td>\n",
       "      <td>28723</td>\n",
       "    </tr>\n",
       "    <tr>\n",
       "      <th>7</th>\n",
       "      <td></td>\n",
       "      <td>28705</td>\n",
       "      <td>28705</td>\n",
       "    </tr>\n",
       "    <tr>\n",
       "      <th>8</th>\n",
       "      <td>good</td>\n",
       "      <td>-100</td>\n",
       "      <td>1179</td>\n",
       "    </tr>\n",
       "    <tr>\n",
       "      <th>9</th>\n",
       "      <td>bye</td>\n",
       "      <td>-100</td>\n",
       "      <td>17664</td>\n",
       "    </tr>\n",
       "    <tr>\n",
       "      <th>10</th>\n",
       "      <td></td>\n",
       "      <td>-100</td>\n",
       "      <td>28705</td>\n",
       "    </tr>\n",
       "    <tr>\n",
       "      <th>11</th>\n",
       "      <td>fare</td>\n",
       "      <td>19111</td>\n",
       "      <td>19111</td>\n",
       "    </tr>\n",
       "    <tr>\n",
       "      <th>12</th>\n",
       "      <td>well</td>\n",
       "      <td>5458</td>\n",
       "      <td>5458</td>\n",
       "    </tr>\n",
       "    <tr>\n",
       "      <th>13</th>\n",
       "      <td>&lt;/s&gt;</td>\n",
       "      <td>2</td>\n",
       "      <td>2</td>\n",
       "    </tr>\n",
       "  </tbody>\n",
       "</table>\n",
       "</div>"
      ],
      "text/plain": [
       "    token  label     id\n",
       "0     <s>      1      1\n",
       "1   Hello  22557  22557\n",
       "2      \\n     13     13\n",
       "3      hi  12014  12014\n",
       "4   there    736    736\n",
       "5       !  28808  28808\n",
       "6       .  28723  28723\n",
       "7          28705  28705\n",
       "8    good   -100   1179\n",
       "9     bye   -100  17664\n",
       "10          -100  28705\n",
       "11   fare  19111  19111\n",
       "12   well   5458   5458\n",
       "13   </s>      2      2"
      ]
     },
     "execution_count": null,
     "metadata": {},
     "output_type": "execute_result"
    }
   ],
   "source": [
    "import pandas as pd\n",
    "pd.DataFrame([{'token': tok.decode(i), 'label': l, 'id':i} for i,l in \n",
    "              zip(row['input_ids'], row['labels'])])"
   ]
  },
  {
   "cell_type": "markdown",
   "id": "cea20ba2-1361-4335-b36c-1886bcb6a3f6",
   "metadata": {},
   "source": [
    "If we look at the input data, the above table seems correct! (The jsonl version is repeated below for reference):"
   ]
  },
  {
   "cell_type": "code",
   "execution_count": null,
   "id": "adf18485-8efb-4ce4-8bca-cdbb25ef4f4c",
   "metadata": {},
   "outputs": [
    {
     "name": "stdout",
     "output_type": "stream",
     "text": [
      "{\n",
      "    \"segments\": [\n",
      "        {\n",
      "            \"label\": true,\n",
      "            \"text\": \"<s>Hello\\n\"\n",
      "        },\n",
      "        {\n",
      "            \"label\": true,\n",
      "            \"text\": \"hi there!. \"\n",
      "        },\n",
      "        {\n",
      "            \"label\": false,\n",
      "            \"text\": \"goodbye \"\n",
      "        },\n",
      "        {\n",
      "            \"label\": true,\n",
      "            \"text\": \"farewell</s>\"\n",
      "        }\n",
      "    ]\n",
      "}\n"
     ]
    }
   ],
   "source": [
    "! head -n1 output.jsonl | python -m json.tool"
   ]
  },
  {
   "cell_type": "markdown",
   "id": "9b89aa84-748b-4b75-b0cc-79b50a54199c",
   "metadata": {},
   "source": [
    "## Resources\n",
    "\n",
    "1. [Pull request](https://github.com/OpenAccess-AI-Collective/axolotl/pull/1346) that added this feature.\n",
    "2. Axolotl [debugging guide](https://hamel.dev/blog/posts/axolotl/).\n",
    "3. Axolotl prompt construction [notes](https://github.com/hamelsmu/hamel-site/issues/11)."
   ]
  },
  {
   "cell_type": "code",
   "execution_count": null,
   "id": "d6233ef0-0f52-43da-8dd4-97ef2d379f5a",
   "metadata": {},
   "outputs": [],
   "source": []
  }
 ],
 "metadata": {
  "kernelspec": {
   "display_name": "python3",
   "language": "python",
   "name": "python3"
  }
 },
 "nbformat": 4,
 "nbformat_minor": 5
}
