{
 "cells": [
  {
   "cell_type": "raw",
   "id": "720cdda6-0a37-45be-8546-51e4919ea492",
   "metadata": {},
   "source": [
    "---\n",
    "description: Use langchain to get text from any data source.\n",
    "output-file: langchain_connectors.html\n",
    "aliases:\n",
    "    - /notes/llm/finetuning/02_langchain_connectors.html\n",
    "    - /notes/llm/02_langchain_connectors.html\n",
    "---"
   ]
  },
  {
   "cell_type": "markdown",
   "id": "d2177cfb-27ce-4a02-a96a-32927bf3d423",
   "metadata": {},
   "source": [
    "# LangChain `DocumentLoaders`\n",
    "\n",
    "[LangChain](https://python.langchain.com/docs/get_started/introduction.html) is library that provides a kitchen sink of tools for LLMs, particularly integrating LLMs with other tools.  \n",
    "\n",
    "One underrated feature of Langchain is [DocumentLoaders](https://integrations.langchain.com/), which allow you to acquire text data from any source, which is super useful even if you aren't using LLMs at all!  (It can also be useful to hijack these loaders to acquire data for fine tuning!)  \n",
    "\n",
    "For example, if you are trying to get data from a website as text here are some useful `DocumentLoaders`:\n",
    "\n",
    "1. [RecursiveURLLoader](https://python.langchain.com/docs/modules/data_connection/document_loaders/integrations/recursive_url_loader)\n",
    "2. [SeleniumLoader](https://api.python.langchain.com/en/latest/document_loaders/langchain.document_loaders.url_selenium.SeleniumURLLoader.html)\n",
    "3. [SitemapLoader](https://python.langchain.com/docs/modules/data_connection/document_loaders/integrations/sitemap): **this is explored below**.\n",
    "\n",
    "I think it is useful to combine LangChain `DocumentLoaders` with [HuggingFace datasets](https://huggingface.co/docs/datasets/index), because it allows you to save, version and do other fun things like perform [semantic search of your data](https://huggingface.co/learn/nlp-course/chapter5/6?fw=tf) with FAISS.\n",
    "\n",
    "As of this writing, there are [over 125 different kinds](https://integrations.langchain.com/) of `DocumentLoaders`.  I haven't been able to find a loader that isn't there to quickly acquire data I need."
   ]
  },
  {
   "cell_type": "markdown",
   "id": "40b8237e-5ded-4e91-967b-351166d30532",
   "metadata": {},
   "source": [
    "## Sitemap Loader\n",
    "\n",
    "[Sitemaps](https://en.wikipedia.org/wiki/Site_map) are a nice way to see a listing of all pages on a site.  This is useful for acquiring all of the text from a large site that might contain many pages.  Below, I use the [SitemapLoader](https://python.langchain.com/docs/modules/data_connection/document_loaders/integrations/sitemap) to get all of the text from [https://quarto.org](https://quarto.org)."
   ]
  },
  {
   "cell_type": "markdown",
   "id": "ba4d825c-7571-4488-b5bf-1b40fcdf4106",
   "metadata": {},
   "source": [
    ":::{.callout-warning}\n",
    "There is currently [a bug](https://github.com/hwchase17/langchain/issues/6521) in langchain, so I had to install an old version right before [this commit](https://github.com/hwchase17/langchain/pull/6107) which broke the `SitemapLoader`.  I had to downgrade to `v0.0.202` via `pip install langchain==0.0.202`\n",
    ":::"
   ]
  },
  {
   "cell_type": "code",
   "execution_count": null,
   "id": "ebd23b2e-fb52-40c0-8c3c-e4607b89a325",
   "metadata": {
    "vscode": {
     "languageId": "python"
    }
   },
   "outputs": [
    {
     "name": "stderr",
     "output_type": "stream",
     "text": [
      "Fetching pages: 100%|####################################| 269/269 [00:16<00:00, 16.21it/s]\n"
     ]
    }
   ],
   "source": [
    "import nest_asyncio\n",
    "nest_asyncio.apply() # you don't need this line outside notebooks\n",
    "from langchain.document_loaders.sitemap import SitemapLoader\n",
    "sitemap_loader = SitemapLoader(web_path=\"https://quarto.org/sitemap.xml\")\n",
    "sitemap_loader.requests_per_second = 4\n",
    "docs = sitemap_loader.load()"
   ]
  },
  {
   "cell_type": "code",
   "execution_count": null,
   "id": "937c9fbc-4ed9-455d-95d6-121bc99015d2",
   "metadata": {
    "vscode": {
     "languageId": "python"
    }
   },
   "outputs": [
    {
     "name": "stdout",
     "output_type": "stream",
     "text": [
      "There are 269 pages\n"
     ]
    }
   ],
   "source": [
    "print(f'There are {len(docs)} pages')"
   ]
  },
  {
   "cell_type": "markdown",
   "id": "81151d52-fa3f-4a27-b129-5ace5a3d132a",
   "metadata": {},
   "source": [
    "Let's look at the content of one page:"
   ]
  },
  {
   "cell_type": "code",
   "execution_count": null,
   "id": "31c26035-c70d-4eea-8ec3-7c03dbe5b8bc",
   "metadata": {
    "vscode": {
     "languageId": "python"
    }
   },
   "outputs": [
    {
     "data": {
      "text/plain": [
       "{'page_content': '\\n\\n\\n\\n\\nQuarto - About Quarto\\n\\n\\n\\n\\n\\n\\n\\n\\n\\n\\n\\n\\n\\n\\n\\n\\n\\n\\n\\n\\n\\n\\n\\n\\n\\n\\n\\n\\n\\n\\n\\n\\n\\n\\n\\n\\n\\n\\n\\n\\n\\n\\n\\n\\n\\n\\n\\n\\n\\n\\n\\n\\n\\nOverview\\n\\n\\n\\nGet Started\\n\\n\\n\\nGuide\\n\\n\\n\\nExtensions\\n\\n\\n\\nReference\\n\\n\\n\\nGallery\\n\\n\\n\\nBlog\\n\\n\\n\\nHelp\\n\\n\\n\\n\\n\\nReport a Bug\\n\\n\\n\\n\\nAsk a Question\\n\\n\\n\\n\\nFAQ\\n\\n\\n\\n\\n \\n\\n\\n\\n\\n\\n \\n\\n\\n\\n\\n\\n\\n\\n\\nOn this page\\n\\nGoals\\nProject\\nContribute\\n\\nEdit this pageReport an issue\\n\\n\\n\\n\\n\\nAbout Quarto\\nOpen source tools for scientific and technical publishing\\n\\n\\n\\n\\n\\nGoals\\nThe overarching goal of Quarto is to make the process of creating and collaborating on scientific and technical documents dramatically better. We hope to do this in several dimensions:\\n\\nCreate a writing and publishing environment with great integrated tools for technical content. We want to make authoring with embedded code, equations, figures, complex diagrams, interactive widgets, citations, cross references, and the myriad other special requirements of scientific discourse straightforward and productive for everyone.\\nHelp authors take full advantage of the web as a connected, interactive platform for communications, while still providing the ability to create excellent printed output from the same document source. Researchers shouldn’t need to choose between LaTeX, MS Word, and HTML but rather be able to author documents that target all of them at the same time.\\nMake reproducible research and publications the norm rather than the exception. Reproducibility requires that the code and data required to create a manuscript are an integrated part of it. However, this isn’t often straightforward in practice—Quarto aims to make it easier to adopt a reproducible workflow than not.\\n\\nQuarto is open source software licensed under the GNU GPL v2. We believe that it’s better for everyone if the tools used for research and science are free and open. Reproducibility, widespread sharing of knowledge and techniques, and the leveling of the playing field by eliminating cost barriers are but a few of the shared benefits of free software in science.\\n\\n\\nProject\\nAt the core of Quarto is Pandoc, a powerful and flexible document processing tool. Quarto adds a number of facilities to Pandoc aimed at scientific and technical publishing, including:\\n\\nEmbedding code and output from Python, R, and JavaScript via integration with Jupyter, Knitr, and Observable.\\nA variety of extensions to Pandoc markdown useful for technical writing including cross-references, sub-figures, layout panels, hoverable citations and footnotes, callouts, and more.\\nA project system for rendering groups of documents at once, sharing options across documents, and producing aggregate output like websites and books.\\n\\nDevelopment of Quarto is sponsored by Posit, PBC, where we previously created a similar system (R Markdown) that shared the same goals, but was targeted principally at users of the R language. The same core team works on both Quarto and R Markdown:\\n\\nJ.J. Allaire (@jjallaire)\\nChristophe Dervieux (@cderv)\\nCarlos Scheidegger (@cscheid)\\nCharles Teague (@dragonstyle)\\nYihui Xie (@yihui)\\n\\nWith Quarto, we are hoping to bring these tools to a much wider audience.\\nQuarto is a registered trademark of Posit. Please see our trademark policy for guidelines on usage of the Quarto trademark.\\n\\n\\nContribute\\nYou can contribute to Quarto in many ways:\\n\\nBy opening issues to provide feedback and share ideas.\\nBy submitting Pull Request (PR) to fix opened issues\\nBy submitting Pull Request (PR) to suggest new features (it is considered good practice to open an issue for discussion before working on a pull request for a new feature).\\n\\nPlease be mindful of our code of conduct as you interact with other community members.\\n\\nPull Requests\\nPull requests are very welcome! Here’s how to contribute via PR:\\n\\nFork the repository, clone it locally, and make your changes in a new branch specific to the PR. For example:\\n\\n\\nTerminal\\n\\n# clone your fork\\n$ git clone https://github.com/<username>/quarto-cli\\n\\n# configure for your platform (./configure.sh or ./configure.cmd for windows)\\n$ cd quarto-cli\\n$ ./configure.sh\\n\\n# checkout a new branch\\n$ git checkout -b feature/newthing\\n\\nFor significant changes (e.g more than small bug fixes), ensure that you have signed the individual or corporate contributor agreement as appropriate. You can send the signed copy to jj@rstudio.com.\\nSubmit the pull request. It is ok to submit as draft in your are still working on it but would like some feedback from us. It always good to share in the open that you are working on it.\\n\\nWe’ll try to be as responsive as possible in reviewing and accepting pull requests.\\n\\n\\n \\n\\n\\n \\n\\n\\n\\nProudly supported by \\n\\n\\n\\n\\n\\nAbout\\n\\n\\n\\n\\nFAQ\\n\\n\\n\\n\\nLicense\\n\\n\\n\\n\\nTrademark\\n\\n\\n\\n\\n\\n\\n\\n\\n\\n\\n\\n\\n\\n\\n\\n\\n\\n\\n\\n\\n\\n\\n\\n\\n\\n\\n\\n\\n',\n",
       " 'metadata': {'source': 'https://quarto.org/about.html',\n",
       "  'loc': 'https://quarto.org/about.html',\n",
       "  'lastmod': '2023-07-05T19:35:15.135Z'}}"
      ]
     },
     "execution_count": null,
     "metadata": {},
     "output_type": "execute_result"
    }
   ],
   "source": [
    "example = docs[0]\n",
    "example.dict()"
   ]
  },
  {
   "cell_type": "markdown",
   "id": "4595c79e-c659-412a-9198-29dc96c5e1af",
   "metadata": {},
   "source": [
    "## Clean the data"
   ]
  },
  {
   "cell_type": "markdown",
   "id": "a0be8628-fa59-46b8-bbb0-4d3600a01f23",
   "metadata": {},
   "source": [
    "When we look at this page, we can see a bunch of unwanted text.  The navbar and the sidenav are showing up, and we do not want this.   We can update the parsing function to fix this:"
   ]
  },
  {
   "cell_type": "code",
   "execution_count": null,
   "id": "7572b6a8-32cc-4c0d-9fc2-9793c8497d27",
   "metadata": {
    "vscode": {
     "languageId": "python"
    }
   },
   "outputs": [],
   "source": [
    "from bs4 import BeautifulSoup\n",
    "\n",
    "\n",
    "def remove_nav_and_header_elements(content: BeautifulSoup) -> str:\n",
    "    exclude = content.find_all([\"nav\", \"footer\", \"header\", \"head\"])\n",
    "    for element in exclude:\n",
    "        element.decompose()\n",
    "\n",
    "    return str(content.get_text()).strip()"
   ]
  },
  {
   "cell_type": "code",
   "execution_count": null,
   "id": "5ef3706d-6a13-46a7-814d-9c873bf8e95e",
   "metadata": {
    "vscode": {
     "languageId": "python"
    }
   },
   "outputs": [
    {
     "name": "stderr",
     "output_type": "stream",
     "text": [
      "Fetching pages: 100%|####################################| 269/269 [00:05<00:00, 52.00it/s]\n"
     ]
    }
   ],
   "source": [
    "sitemap_loader = SitemapLoader(web_path=\"https://quarto.org/sitemap.xml\",\n",
    "                              parsing_function=remove_nav_and_header_elements)\n",
    "sitemap_loader.requests_per_second = 4\n",
    "docs = sitemap_loader.load()"
   ]
  },
  {
   "cell_type": "code",
   "execution_count": null,
   "id": "0155718d-5114-4cdf-84f7-68b0209d36b5",
   "metadata": {
    "vscode": {
     "languageId": "python"
    }
   },
   "outputs": [
    {
     "data": {
      "text/plain": [
       "{'page_content': 'Goals\\nThe overarching goal of Quarto is to make the process of creating and collaborating on scientific and technical documents dramatically better. We hope to do this in several dimensions:\\n\\nCreate a writing and publishing environment with great integrated tools for technical content. We want to make authoring with embedded code, equations, figures, complex diagrams, interactive widgets, citations, cross references, and the myriad other special requirements of scientific discourse straightforward and productive for everyone.\\nHelp authors take full advantage of the web as a connected, interactive platform for communications, while still providing the ability to create excellent printed output from the same document source. Researchers shouldn’t need to choose between LaTeX, MS Word, and HTML but rather be able to author documents that target all of them at the same time.\\nMake reproducible research and publications the norm rather than the exception. Reproducibility requires that the code and data required to create a manuscript are an integrated part of it. However, this isn’t often straightforward in practice—Quarto aims to make it easier to adopt a reproducible workflow than not.\\n\\nQuarto is open source software licensed under the GNU GPL v2. We believe that it’s better for everyone if the tools used for research and science are free and open. Reproducibility, widespread sharing of knowledge and techniques, and the leveling of the playing field by eliminating cost barriers are but a few of the shared benefits of free software in science.\\n\\n\\nProject\\nAt the core of Quarto is Pandoc, a powerful and flexible document processing tool. Quarto adds a number of facilities to Pandoc aimed at scientific and technical publishing, including:\\n\\nEmbedding code and output from Python, R, and JavaScript via integration with Jupyter, Knitr, and Observable.\\nA variety of extensions to Pandoc markdown useful for technical writing including cross-references, sub-figures, layout panels, hoverable citations and footnotes, callouts, and more.\\nA project system for rendering groups of documents at once, sharing options across documents, and producing aggregate output like websites and books.\\n\\nDevelopment of Quarto is sponsored by Posit, PBC, where we previously created a similar system (R Markdown) that shared the same goals, but was targeted principally at users of the R language. The same core team works on both Quarto and R Markdown:\\n\\nJ.J. Allaire (@jjallaire)\\nChristophe Dervieux (@cderv)\\nCarlos Scheidegger (@cscheid)\\nCharles Teague (@dragonstyle)\\nYihui Xie (@yihui)\\n\\nWith Quarto, we are hoping to bring these tools to a much wider audience.\\nQuarto is a registered trademark of Posit. Please see our trademark policy for guidelines on usage of the Quarto trademark.\\n\\n\\nContribute\\nYou can contribute to Quarto in many ways:\\n\\nBy opening issues to provide feedback and share ideas.\\nBy submitting Pull Request (PR) to fix opened issues\\nBy submitting Pull Request (PR) to suggest new features (it is considered good practice to open an issue for discussion before working on a pull request for a new feature).\\n\\nPlease be mindful of our code of conduct as you interact with other community members.\\n\\nPull Requests\\nPull requests are very welcome! Here’s how to contribute via PR:\\n\\nFork the repository, clone it locally, and make your changes in a new branch specific to the PR. For example:\\n\\n\\nTerminal\\n\\n# clone your fork\\n$ git clone https://github.com/<username>/quarto-cli\\n\\n# configure for your platform (./configure.sh or ./configure.cmd for windows)\\n$ cd quarto-cli\\n$ ./configure.sh\\n\\n# checkout a new branch\\n$ git checkout -b feature/newthing\\n\\nFor significant changes (e.g more than small bug fixes), ensure that you have signed the individual or corporate contributor agreement as appropriate. You can send the signed copy to jj@rstudio.com.\\nSubmit the pull request. It is ok to submit as draft in your are still working on it but would like some feedback from us. It always good to share in the open that you are working on it.\\n\\nWe’ll try to be as responsive as possible in reviewing and accepting pull requests.',\n",
       " 'metadata': {'source': 'https://quarto.org/about.html',\n",
       "  'loc': 'https://quarto.org/about.html',\n",
       "  'lastmod': '2023-07-05T19:35:15.135Z'}}"
      ]
     },
     "execution_count": null,
     "metadata": {},
     "output_type": "execute_result"
    }
   ],
   "source": [
    "example = docs[0]\n",
    "example.dict()"
   ]
  },
  {
   "cell_type": "markdown",
   "id": "714186f2-44a7-43fc-839e-de990dbcfd95",
   "metadata": {},
   "source": [
    "# Create a HF Dataset\n",
    "\n",
    "We can use the `from_list` method to load that sitemap data into a HF Dataset."
   ]
  },
  {
   "cell_type": "code",
   "execution_count": null,
   "id": "bd3e7d54-bd39-41bd-9906-ae52898c636b",
   "metadata": {
    "vscode": {
     "languageId": "python"
    }
   },
   "outputs": [],
   "source": [
    "from datasets import Dataset \n",
    "repo_name = 'hamel/quarto'"
   ]
  },
  {
   "cell_type": "code",
   "execution_count": null,
   "id": "fc2d7d1b-f962-47ee-8a51-911b87c517a4",
   "metadata": {
    "vscode": {
     "languageId": "python"
    }
   },
   "outputs": [],
   "source": [
    "quarto_data = Dataset.from_list([d.dict() for d in docs])"
   ]
  },
  {
   "cell_type": "code",
   "execution_count": null,
   "id": "f498ebc3-df6e-4cf3-b968-0e69406d7803",
   "metadata": {
    "vscode": {
     "languageId": "python"
    }
   },
   "outputs": [
    {
     "data": {
      "text/plain": [
       "Dataset({\n",
       "    features: ['page_content', 'metadata'],\n",
       "    num_rows: 269\n",
       "})"
      ]
     },
     "execution_count": null,
     "metadata": {},
     "output_type": "execute_result"
    }
   ],
   "source": [
    "quarto_data"
   ]
  },
  {
   "cell_type": "code",
   "execution_count": null,
   "id": "c3daedcf-4a31-4da1-9826-2eee13838d43",
   "metadata": {
    "vscode": {
     "languageId": "python"
    }
   },
   "outputs": [
    {
     "data": {
      "application/vnd.jupyter.widget-view+json": {
       "model_id": "c01f583666324bc4ac44858b690114f8",
       "version_major": 2,
       "version_minor": 0
      },
      "text/plain": [
       "Pushing dataset shards to the dataset hub:   0%|          | 0/1 [00:00<?, ?it/s]"
      ]
     },
     "metadata": {},
     "output_type": "display_data"
    },
    {
     "name": "stderr",
     "output_type": "stream",
     "text": [
      "Updating downloaded metadata with the new split.\n"
     ]
    }
   ],
   "source": [
    "quarto_data.push_to_hub(repo_name)"
   ]
  },
  {
   "cell_type": "code",
   "execution_count": null,
   "id": "55dd4e7d-6d0c-4d03-affa-7050ca895fa9",
   "metadata": {
    "vscode": {
     "languageId": "python"
    }
   },
   "outputs": [
    {
     "data": {
      "text/markdown": [
       "This data is available at [https://huggingface.co/datasets/hamel/quarto](hamel/quarto)"
      ],
      "text/plain": [
       "<IPython.core.display.Markdown object>"
      ]
     },
     "execution_count": null,
     "metadata": {},
     "output_type": "execute_result"
    }
   ],
   "source": [
    "#|echo: false\n",
    "from IPython.display import Markdown\n",
    "Markdown(f'This data is available at [https://huggingface.co/datasets/{repo_name}]({repo_name})')"
   ]
  },
  {
   "cell_type": "markdown",
   "id": "5a64e415-8efd-4db0-8e09-5a90f4a84886",
   "metadata": {},
   "source": [
    "## Download the data\n",
    "\n",
    "You can download the data from the HuggingFace Hub like this:"
   ]
  },
  {
   "cell_type": "code",
   "execution_count": null,
   "id": "b1cbf8a1-c74a-47d8-80e2-42ce199317cd",
   "metadata": {
    "vscode": {
     "languageId": "python"
    }
   },
   "outputs": [
    {
     "data": {
      "application/vnd.jupyter.widget-view+json": {
       "model_id": "f2699b18422c4cdd9619f75092eed309",
       "version_major": 2,
       "version_minor": 0
      },
      "text/plain": [
       "Downloading:   0%|          | 0.00/1.17k [00:00<?, ?B/s]"
      ]
     },
     "metadata": {},
     "output_type": "display_data"
    },
    {
     "name": "stderr",
     "output_type": "stream",
     "text": [
      "Using custom data configuration hamel--quarto-b88699e31e28f953\n"
     ]
    },
    {
     "name": "stdout",
     "output_type": "stream",
     "text": [
      "Downloading and preparing dataset None/None (download: Unknown size, generated: 1.81 MiB, post-processed: Unknown size, total: 1.81 MiB) to /Users/hamel/.cache/huggingface/datasets/hamel___parquet/hamel--quarto-b88699e31e28f953/0.0.0/2a3b91fbd88a2c90d1dbbb32b460cf621d31bd5b05b934492fdef7d8d6f236ec...\n"
     ]
    },
    {
     "data": {
      "application/vnd.jupyter.widget-view+json": {
       "model_id": "d11d6da81154437c8cc286578601dd56",
       "version_major": 2,
       "version_minor": 0
      },
      "text/plain": [
       "Downloading data files:   0%|          | 0/1 [00:00<?, ?it/s]"
      ]
     },
     "metadata": {},
     "output_type": "display_data"
    },
    {
     "data": {
      "application/vnd.jupyter.widget-view+json": {
       "model_id": "409134a881b54c2ca18f3e0148202c84",
       "version_major": 2,
       "version_minor": 0
      },
      "text/plain": [
       "Downloading data:   0%|          | 0.00/735k [00:00<?, ?B/s]"
      ]
     },
     "metadata": {},
     "output_type": "display_data"
    },
    {
     "data": {
      "application/vnd.jupyter.widget-view+json": {
       "model_id": "f7f52e4c2fa4420dbb95e6751268fbfc",
       "version_major": 2,
       "version_minor": 0
      },
      "text/plain": [
       "Extracting data files:   0%|          | 0/1 [00:00<?, ?it/s]"
      ]
     },
     "metadata": {},
     "output_type": "display_data"
    },
    {
     "data": {
      "application/vnd.jupyter.widget-view+json": {
       "model_id": "",
       "version_major": 2,
       "version_minor": 0
      },
      "text/plain": [
       "0 tables [00:00, ? tables/s]"
      ]
     },
     "metadata": {},
     "output_type": "display_data"
    },
    {
     "name": "stdout",
     "output_type": "stream",
     "text": [
      "Dataset parquet downloaded and prepared to /Users/hamel/.cache/huggingface/datasets/hamel___parquet/hamel--quarto-b88699e31e28f953/0.0.0/2a3b91fbd88a2c90d1dbbb32b460cf621d31bd5b05b934492fdef7d8d6f236ec. Subsequent calls will reuse this data.\n"
     ]
    },
    {
     "data": {
      "application/vnd.jupyter.widget-view+json": {
       "model_id": "b6bf8e4aaf01436da2d036e8c1079dff",
       "version_major": 2,
       "version_minor": 0
      },
      "text/plain": [
       "  0%|          | 0/1 [00:00<?, ?it/s]"
      ]
     },
     "metadata": {},
     "output_type": "display_data"
    }
   ],
   "source": [
    "from datasets import load_dataset\n",
    "remote_data = load_dataset(repo_name)"
   ]
  },
  {
   "cell_type": "code",
   "execution_count": null,
   "id": "756b4a30-3430-495c-8939-c7bd5f0abe82",
   "metadata": {
    "vscode": {
     "languageId": "python"
    }
   },
   "outputs": [
    {
     "data": {
      "text/plain": [
       "{'page_content': 'Goals\\nThe overarching goal of Quarto is to make the process of creating and collaborating on scientific and technical documents dramatically better. We hope to do this in several dimensions:\\n\\nCreate a writing and publishing environment with great integrated tools for technical content. We want to make authoring with embedded code, equations, figures, complex diagrams, interactive widgets, citations, cross references, and the myriad other special requirements of scientific discourse straightforward and productive for everyone.\\nHelp authors take full advantage of the web as a connected, interactive platform for communications, while still providing the ability to create excellent printed output from the same document source. Researchers shouldn’t need to choose between LaTeX, MS Word, and HTML but rather be able to author documents that target all of them at the same time.\\nMake reproducible research and publications the norm rather than the exception. Reproducibility requires that the code and data required to create a manuscript are an integrated part of it. However, this isn’t often straightforward in practice—Quarto aims to make it easier to adopt a reproducible workflow than not.\\n\\nQuarto is open source software licensed under the GNU GPL v2. We believe that it’s better for everyone if the tools used for research and science are free and open. Reproducibility, widespread sharing of knowledge and techniques, and the leveling of the playing field by eliminating cost barriers are but a few of the shared benefits of free software in science.\\n\\n\\nProject\\nAt the core of Quarto is Pandoc, a powerful and flexible document processing tool. Quarto adds a number of facilities to Pandoc aimed at scientific and technical publishing, including:\\n\\nEmbedding code and output from Python, R, and JavaScript via integration with Jupyter, Knitr, and Observable.\\nA variety of extensions to Pandoc markdown useful for technical writing including cross-references, sub-figures, layout panels, hoverable citations and footnotes, callouts, and more.\\nA project system for rendering groups of documents at once, sharing options across documents, and producing aggregate output like websites and books.\\n\\nDevelopment of Quarto is sponsored by Posit, PBC, where we previously created a similar system (R Markdown) that shared the same goals, but was targeted principally at users of the R language. The same core team works on both Quarto and R Markdown:\\n\\nJ.J. Allaire (@jjallaire)\\nChristophe Dervieux (@cderv)\\nCarlos Scheidegger (@cscheid)\\nCharles Teague (@dragonstyle)\\nYihui Xie (@yihui)\\n\\nWith Quarto, we are hoping to bring these tools to a much wider audience.\\nQuarto is a registered trademark of Posit. Please see our trademark policy for guidelines on usage of the Quarto trademark.\\n\\n\\nContribute\\nYou can contribute to Quarto in many ways:\\n\\nBy opening issues to provide feedback and share ideas.\\nBy submitting Pull Request (PR) to fix opened issues\\nBy submitting Pull Request (PR) to suggest new features (it is considered good practice to open an issue for discussion before working on a pull request for a new feature).\\n\\nPlease be mindful of our code of conduct as you interact with other community members.\\n\\nPull Requests\\nPull requests are very welcome! Here’s how to contribute via PR:\\n\\nFork the repository, clone it locally, and make your changes in a new branch specific to the PR. For example:\\n\\n\\nTerminal\\n\\n# clone your fork\\n$ git clone https://github.com/<username>/quarto-cli\\n\\n# configure for your platform (./configure.sh or ./configure.cmd for windows)\\n$ cd quarto-cli\\n$ ./configure.sh\\n\\n# checkout a new branch\\n$ git checkout -b feature/newthing\\n\\nFor significant changes (e.g more than small bug fixes), ensure that you have signed the individual or corporate contributor agreement as appropriate. You can send the signed copy to jj@rstudio.com.\\nSubmit the pull request. It is ok to submit as draft in your are still working on it but would like some feedback from us. It always good to share in the open that you are working on it.\\n\\nWe’ll try to be as responsive as possible in reviewing and accepting pull requests.',\n",
       " 'metadata': {'lastmod': '2023-07-05T19:35:15.135Z',\n",
       "  'loc': 'https://quarto.org/about.html',\n",
       "  'source': 'https://quarto.org/about.html'}}"
      ]
     },
     "execution_count": null,
     "metadata": {},
     "output_type": "execute_result"
    }
   ],
   "source": [
    "remote_data['train'][0]"
   ]
  },
  {
   "cell_type": "markdown",
   "id": "83b699c1-8a2e-4fa6-8e87-d48ced12a028",
   "metadata": {},
   "source": [
    "# GitHub Issues\n",
    "\n",
    "We can use the [GitHubIssuesLoader](https://python.langchain.com/docs/modules/data_connection/document_loaders/integrations/github) to get all of the issues from a GitHub repo."
   ]
  },
  {
   "cell_type": "code",
   "execution_count": null,
   "id": "54ba3475-2c35-435c-b54f-fc7be76ec509",
   "metadata": {
    "vscode": {
     "languageId": "python"
    }
   },
   "outputs": [],
   "source": [
    "from langchain.document_loaders import GitHubIssuesLoader"
   ]
  },
  {
   "cell_type": "markdown",
   "id": "3c34806a-d185-4566-ac25-61915038d7d0",
   "metadata": {},
   "source": [
    "This assumes you have set the `GITHUB_PERSONAL_ACCESS_TOKEN` as an environment variable"
   ]
  },
  {
   "cell_type": "code",
   "execution_count": null,
   "id": "e5c88db4-80b6-4eac-b745-4eb9ccea1997",
   "metadata": {
    "vscode": {
     "languageId": "python"
    }
   },
   "outputs": [],
   "source": [
    "loader = GitHubIssuesLoader(\n",
    "    repo=\"quarto-dev/quarto-cli\",\n",
    "    state='all', #get both open and closed issues\n",
    "    include_prs=False,\n",
    ")\n",
    "quarto_issues = loader.load()"
   ]
  },
  {
   "cell_type": "code",
   "execution_count": null,
   "id": "a28051bd-d369-45d9-8fd4-2f4ff1fe05de",
   "metadata": {
    "vscode": {
     "languageId": "python"
    }
   },
   "outputs": [
    {
     "data": {
      "text/plain": [
       "2841"
      ]
     },
     "execution_count": null,
     "metadata": {},
     "output_type": "execute_result"
    }
   ],
   "source": [
    "len(quarto_issues)"
   ]
  },
  {
   "cell_type": "markdown",
   "id": "c4dc2822-878d-447d-a940-224900315592",
   "metadata": {},
   "source": [
    "Wow, that's a lot of Issues!  Let's take a look at one:\n",
    "\n",
    "In the issue below, I can see that it doesn't include comments.  We would have to get those separately with further API calls, but this is a good start!"
   ]
  },
  {
   "cell_type": "code",
   "execution_count": null,
   "id": "9ce6f811-0e44-4072-b4f0-4cdb5d7267cf",
   "metadata": {
    "vscode": {
     "languageId": "python"
    }
   },
   "outputs": [
    {
     "data": {
      "text/plain": [
       "Document(page_content=\"### Bug description\\n\\nI am running Quarto to produce a report in which I mix python with R (using 95% R). When I started trying to use python, I believe that RStudio is not recognizing my python installation and packages:\\r\\n\\r\\n```\\r\\nError in py_call_impl(callable, call_args$unnamed, call_args$named) : \\r\\n  ModuleNotFoundError: No module named 'pandas'\\r\\n```\\r\\n\\r\\nAny ideas?\\n\\n### Steps to reproduce\\n\\n---\\r\\ntitle: 'Nota Técnica - Índice Socioeconômico dos Estudantes'\\r\\nauthor: ''\\r\\nformat: \\r\\n  html:\\r\\n    encoding: 'UTF-8'\\r\\n    theme: style.css\\r\\neditor: visual\\r\\nlang: pt\\r\\nexecute:\\r\\n  echo: false\\r\\n  warning: false\\r\\n---\\r\\n\\r\\n```{python}\\r\\n#| label: load-py-pckgs\\r\\nimport pandas as pd\\r\\nimport seaborn as sns\\r\\n```\\n\\n### Expected behavior\\n\\nI expected it to load python packages and modules with no problems.\\n\\n### Actual behavior\\n\\nError when loading any python package.\\n\\n### Your environment\\n\\nIDE: RStudio 2022.07.2 Build 576\\r\\nR version 4.1.0 (2021-05-18) (can't update because of internal packages built with this version)\\r\\nOS: Windows 11\\n\\n### Quarto check output\\n\\n`quarto check` gives me:\\r\\nC:\\\\Users\\\\joao.freire\\\\Documents>quarto check\\r\\n\\r\\n[>] Checking versions of quarto binary dependencies...\\r\\n      Pandoc version 3.1.1: OK\\r\\n      Dart Sass version 1.55.0: OK\\r\\n[>] Checking versions of quarto dependencies......OK\\r\\n[>] Checking Quarto installation......OK\\r\\n      Version: 1.3.433\\r\\n      Path: C:\\\\Users\\\\joao.freire\\\\AppData\\\\Local\\\\Programs\\\\Quarto\\\\bin\\r\\n      CodePage: 1252\\r\\n\\r\\n[>] Checking basic markdown render....OK\\r\\n\\r\\n[>] Checking Python 3 installation....OK\\r\\n      Version: 3.11.4\\r\\n      Path: C:/Program Files/Python311/python.exe\\r\\n      Jupyter: 5.3.1\\r\\n      Kernels: python3\\r\\n\\r\\n(/) Checking Jupyter engine render....0.00s - Debugger warning: It seems that frozen modules are being used, which may\\r\\n0.00s - make the debugger miss breakpoints. Please pass -Xfrozen_modules=off\\r\\n0.00s - to python to disable frozen modules.\\r\\n0.00s - Note: Debugging will proceed. Set PYDEVD_DISABLE_FILE_VALIDATION=1 to disable this\\r\\nvalidation.\\r\\n0.00s - Debugger warning: It seems that frozen modules are being used, which may\\r\\n0.00s - make the debugger miss breakpoints. Please pass -Xfrozen_modules=off\\r\\n0.00s - to python to disable frozen modules.\\r\\n0.00s - Note: Debugging will proceed. Set PYDEVD_DISABLE_FILE_VALIDATION=1 to disable this\\r\\nvalidation.\\r\\n[>] Checking Jupyter engine render....OK\\r\\n\\r\\n[>] Checking R installation...........OK\\r\\n      Version: 4.1.0\\r\\n      Path: C:/Users/joao.freire/Documents/R/R-4.1.0\\r\\n      LibPaths:\\r\\n        - C:/Users/joao.freire/Documents/R/R-4.1.0/library\\r\\n      knitr: 1.42\\r\\n      rmarkdown: 2.23\\r\\n\\r\\n[>] Checking Knitr engine render......OK\\r\\n\\r\\n\\r\\nC:\\\\Users\\\\joao.freire\\\\Documents>quarto check\\r\\n\\r\\n[>] Checking versions of quarto binary dependencies...\\r\\n      Pandoc version 3.1.1: OK\\r\\n      Dart Sass version 1.55.0: OK\\r\\n[>] Checking versions of quarto dependencies......OK\\r\\n[>] Checking Quarto installation......OK\\r\\n      Version: 1.3.433\\r\\n      Path: C:\\\\Users\\\\joao.freire\\\\AppData\\\\Local\\\\Programs\\\\Quarto\\\\bin\\r\\n      CodePage: 1252\\r\\n\\r\\n[>] Checking basic markdown render....OK\\r\\n\\r\\n[>] Checking Python 3 installation....OK\\r\\n      Version: 3.11.4\\r\\n      Path: C:/Program Files/Python311/python.exe\\r\\n      Jupyter: 5.3.1\\r\\n      Kernels: python3\\r\\n\\r\\n```\\r\\n(\\\\) Checking Jupyter engine render....0.00s - Debugger warning: It seems that frozen modules are being used, which may\\r\\n0.00s - make the debugger miss breakpoints. Please pass -Xfrozen_modules=off\\r\\n0.00s - to python to disable frozen modules.\\r\\n0.00s - Note: Debugging will proceed. Set PYDEVD_DISABLE_FILE_VALIDATION=1 to disable this\\r\\nvalidation.\\r\\n0.00s - Debugger warning: It seems that frozen modules are being used, which may\\r\\n0.00s - make the debugger miss breakpoints. Please pass -Xfrozen_modules=off\\r\\n0.00s - to python to disable frozen modules.\\r\\n0.00s - Note: Debugging will proceed. Set PYDEVD_DISABLE_FILE_VALIDATION=1 to disable this\\r\\nvalidation.\\r\\n[>] Checking Jupyter engine render....OK\\r\\n\\r\\n[>] Checking R installation...........OK\\r\\n      Version: 4.1.0\\r\\n      Path: C:/Users/joao.freire/Documents/R/R-4.1.0\\r\\n      LibPaths:\\r\\n        - C:/Users/joao.freire/Documents/R/R-4.1.0/library\\r\\n      knitr: 1.42\\r\\n      rmarkdown: 2.23\\r\\n\\r\\n[>] Checking Knitr engine render......OK\\r\\n```\", metadata={'url': 'https://github.com/quarto-dev/quarto-cli/issues/6113', 'title': 'Quarto not recognizing python packages', 'creator': 'joaoaugustofrei', 'created_at': '2023-07-05T21:11:31Z', 'comments': 1, 'state': 'open', 'labels': ['bug'], 'assignee': None, 'milestone': None, 'locked': False, 'number': 6113, 'is_pull_request': False})"
      ]
     },
     "execution_count": null,
     "metadata": {},
     "output_type": "execute_result"
    }
   ],
   "source": [
    "quarto_issues[0]"
   ]
  },
  {
   "cell_type": "markdown",
   "id": "ec741af2-9918-4a8c-853e-9e9548a27de7",
   "metadata": {},
   "source": [
    "### Upload to the Hub"
   ]
  },
  {
   "cell_type": "markdown",
   "id": "016c5690-3a02-4fd1-9204-44ee2b72bafe",
   "metadata": {},
   "source": [
    "We can upload these issues to the hub like so, this will be available at [https://huggingface.co/datasets/hamel/quarto-issues](https://huggingface.co/datasets/hamel/quarto-issues)"
   ]
  },
  {
   "cell_type": "code",
   "execution_count": null,
   "id": "b68b6641-1ebf-404d-b59e-e53c6081178b",
   "metadata": {
    "vscode": {
     "languageId": "python"
    }
   },
   "outputs": [
    {
     "data": {
      "application/vnd.jupyter.widget-view+json": {
       "model_id": "64b9c90e6a544e7a8032a6f0d8e96764",
       "version_major": 2,
       "version_minor": 0
      },
      "text/plain": [
       "Pushing dataset shards to the dataset hub:   0%|          | 0/1 [00:00<?, ?it/s]"
      ]
     },
     "metadata": {},
     "output_type": "display_data"
    }
   ],
   "source": [
    "#|output: false\n",
    "ds = Dataset.from_list([x.dict() for x in quarto_issues])\n",
    "ds.push_to_hub('hamel/quarto-issues')"
   ]
  },
  {
   "cell_type": "code",
   "execution_count": null,
   "id": "0810c2bd-8cc9-4060-bf04-fe68bb64d29a",
   "metadata": {
    "vscode": {
     "languageId": "python"
    }
   },
   "outputs": [
    {
     "data": {
      "application/vnd.jupyter.widget-view+json": {
       "model_id": "5d98d81e70b3495ea1feb81beb70244b",
       "version_major": 2,
       "version_minor": 0
      },
      "text/plain": [
       "Downloading:   0%|          | 0.00/2.58k [00:00<?, ?B/s]"
      ]
     },
     "metadata": {},
     "output_type": "display_data"
    },
    {
     "name": "stderr",
     "output_type": "stream",
     "text": [
      "Using custom data configuration hamel--quarto-issues-52921768ee5c97fb\n"
     ]
    },
    {
     "name": "stdout",
     "output_type": "stream",
     "text": [
      "Downloading and preparing dataset None/None (download: 1.99 MiB, generated: 4.78 MiB, post-processed: Unknown size, total: 6.77 MiB) to /Users/hamel/.cache/huggingface/datasets/hamel___parquet/hamel--quarto-issues-52921768ee5c97fb/0.0.0/2a3b91fbd88a2c90d1dbbb32b460cf621d31bd5b05b934492fdef7d8d6f236ec...\n"
     ]
    },
    {
     "data": {
      "application/vnd.jupyter.widget-view+json": {
       "model_id": "28ef21dea8aa4e959497c01e59fbe0a1",
       "version_major": 2,
       "version_minor": 0
      },
      "text/plain": [
       "Downloading data files:   0%|          | 0/1 [00:00<?, ?it/s]"
      ]
     },
     "metadata": {},
     "output_type": "display_data"
    },
    {
     "data": {
      "application/vnd.jupyter.widget-view+json": {
       "model_id": "5b55c8610bf64618a4695c1d9fb818e0",
       "version_major": 2,
       "version_minor": 0
      },
      "text/plain": [
       "Downloading data:   0%|          | 0.00/2.08M [00:00<?, ?B/s]"
      ]
     },
     "metadata": {},
     "output_type": "display_data"
    },
    {
     "data": {
      "application/vnd.jupyter.widget-view+json": {
       "model_id": "74964725dbaf42b49b96a6895cbf5fa3",
       "version_major": 2,
       "version_minor": 0
      },
      "text/plain": [
       "Extracting data files:   0%|          | 0/1 [00:00<?, ?it/s]"
      ]
     },
     "metadata": {},
     "output_type": "display_data"
    },
    {
     "data": {
      "application/vnd.jupyter.widget-view+json": {
       "model_id": "",
       "version_major": 2,
       "version_minor": 0
      },
      "text/plain": [
       "0 tables [00:00, ? tables/s]"
      ]
     },
     "metadata": {},
     "output_type": "display_data"
    },
    {
     "name": "stdout",
     "output_type": "stream",
     "text": [
      "Dataset parquet downloaded and prepared to /Users/hamel/.cache/huggingface/datasets/hamel___parquet/hamel--quarto-issues-52921768ee5c97fb/0.0.0/2a3b91fbd88a2c90d1dbbb32b460cf621d31bd5b05b934492fdef7d8d6f236ec. Subsequent calls will reuse this data.\n"
     ]
    },
    {
     "data": {
      "application/vnd.jupyter.widget-view+json": {
       "model_id": "eca2bab288d44a1d88d3e063df0d64a8",
       "version_major": 2,
       "version_minor": 0
      },
      "text/plain": [
       "  0%|          | 0/1 [00:00<?, ?it/s]"
      ]
     },
     "metadata": {},
     "output_type": "display_data"
    }
   ],
   "source": [
    "from datasets import load_dataset\n",
    "remote_data = load_dataset('hamel/quarto-issues')"
   ]
  },
  {
   "cell_type": "code",
   "execution_count": null,
   "id": "c1984409-8649-463c-9c19-0b1b90623fe2",
   "metadata": {
    "vscode": {
     "languageId": "python"
    }
   },
   "outputs": [
    {
     "data": {
      "text/plain": [
       "{'page_content': \"### Bug description\\n\\nI am running Quarto to produce a report in which I mix python with R (using 95% R). When I started trying to use python, I believe that RStudio is not recognizing my python installation and packages:\\r\\n\\r\\n```\\r\\nError in py_call_impl(callable, call_args$unnamed, call_args$named) : \\r\\n  ModuleNotFoundError: No module named 'pandas'\\r\\n```\\r\\n\\r\\nAny ideas?\\n\\n### Steps to reproduce\\n\\n---\\r\\ntitle: 'Nota Técnica - Índice Socioeconômico dos Estudantes'\\r\\nauthor: ''\\r\\nformat: \\r\\n  html:\\r\\n    encoding: 'UTF-8'\\r\\n    theme: style.css\\r\\neditor: visual\\r\\nlang: pt\\r\\nexecute:\\r\\n  echo: false\\r\\n  warning: false\\r\\n---\\r\\n\\r\\n```{python}\\r\\n#| label: load-py-pckgs\\r\\nimport pandas as pd\\r\\nimport seaborn as sns\\r\\n```\\n\\n### Expected behavior\\n\\nI expected it to load python packages and modules with no problems.\\n\\n### Actual behavior\\n\\nError when loading any python package.\\n\\n### Your environment\\n\\nIDE: RStudio 2022.07.2 Build 576\\r\\nR version 4.1.0 (2021-05-18) (can't update because of internal packages built with this version)\\r\\nOS: Windows 11\\n\\n### Quarto check output\\n\\n`quarto check` gives me:\\r\\nC:\\\\Users\\\\joao.freire\\\\Documents>quarto check\\r\\n\\r\\n[>] Checking versions of quarto binary dependencies...\\r\\n      Pandoc version 3.1.1: OK\\r\\n      Dart Sass version 1.55.0: OK\\r\\n[>] Checking versions of quarto dependencies......OK\\r\\n[>] Checking Quarto installation......OK\\r\\n      Version: 1.3.433\\r\\n      Path: C:\\\\Users\\\\joao.freire\\\\AppData\\\\Local\\\\Programs\\\\Quarto\\\\bin\\r\\n      CodePage: 1252\\r\\n\\r\\n[>] Checking basic markdown render....OK\\r\\n\\r\\n[>] Checking Python 3 installation....OK\\r\\n      Version: 3.11.4\\r\\n      Path: C:/Program Files/Python311/python.exe\\r\\n      Jupyter: 5.3.1\\r\\n      Kernels: python3\\r\\n\\r\\n(/) Checking Jupyter engine render....0.00s - Debugger warning: It seems that frozen modules are being used, which may\\r\\n0.00s - make the debugger miss breakpoints. Please pass -Xfrozen_modules=off\\r\\n0.00s - to python to disable frozen modules.\\r\\n0.00s - Note: Debugging will proceed. Set PYDEVD_DISABLE_FILE_VALIDATION=1 to disable this\\r\\nvalidation.\\r\\n0.00s - Debugger warning: It seems that frozen modules are being used, which may\\r\\n0.00s - make the debugger miss breakpoints. Please pass -Xfrozen_modules=off\\r\\n0.00s - to python to disable frozen modules.\\r\\n0.00s - Note: Debugging will proceed. Set PYDEVD_DISABLE_FILE_VALIDATION=1 to disable this\\r\\nvalidation.\\r\\n[>] Checking Jupyter engine render....OK\\r\\n\\r\\n[>] Checking R installation...........OK\\r\\n      Version: 4.1.0\\r\\n      Path: C:/Users/joao.freire/Documents/R/R-4.1.0\\r\\n      LibPaths:\\r\\n        - C:/Users/joao.freire/Documents/R/R-4.1.0/library\\r\\n      knitr: 1.42\\r\\n      rmarkdown: 2.23\\r\\n\\r\\n[>] Checking Knitr engine render......OK\\r\\n\\r\\n\\r\\nC:\\\\Users\\\\joao.freire\\\\Documents>quarto check\\r\\n\\r\\n[>] Checking versions of quarto binary dependencies...\\r\\n      Pandoc version 3.1.1: OK\\r\\n      Dart Sass version 1.55.0: OK\\r\\n[>] Checking versions of quarto dependencies......OK\\r\\n[>] Checking Quarto installation......OK\\r\\n      Version: 1.3.433\\r\\n      Path: C:\\\\Users\\\\joao.freire\\\\AppData\\\\Local\\\\Programs\\\\Quarto\\\\bin\\r\\n      CodePage: 1252\\r\\n\\r\\n[>] Checking basic markdown render....OK\\r\\n\\r\\n[>] Checking Python 3 installation....OK\\r\\n      Version: 3.11.4\\r\\n      Path: C:/Program Files/Python311/python.exe\\r\\n      Jupyter: 5.3.1\\r\\n      Kernels: python3\\r\\n\\r\\n```\\r\\n(\\\\) Checking Jupyter engine render....0.00s - Debugger warning: It seems that frozen modules are being used, which may\\r\\n0.00s - make the debugger miss breakpoints. Please pass -Xfrozen_modules=off\\r\\n0.00s - to python to disable frozen modules.\\r\\n0.00s - Note: Debugging will proceed. Set PYDEVD_DISABLE_FILE_VALIDATION=1 to disable this\\r\\nvalidation.\\r\\n0.00s - Debugger warning: It seems that frozen modules are being used, which may\\r\\n0.00s - make the debugger miss breakpoints. Please pass -Xfrozen_modules=off\\r\\n0.00s - to python to disable frozen modules.\\r\\n0.00s - Note: Debugging will proceed. Set PYDEVD_DISABLE_FILE_VALIDATION=1 to disable this\\r\\nvalidation.\\r\\n[>] Checking Jupyter engine render....OK\\r\\n\\r\\n[>] Checking R installation...........OK\\r\\n      Version: 4.1.0\\r\\n      Path: C:/Users/joao.freire/Documents/R/R-4.1.0\\r\\n      LibPaths:\\r\\n        - C:/Users/joao.freire/Documents/R/R-4.1.0/library\\r\\n      knitr: 1.42\\r\\n      rmarkdown: 2.23\\r\\n\\r\\n[>] Checking Knitr engine render......OK\\r\\n```\",\n",
       " 'metadata': {'assignee': None,\n",
       "  'comments': 1,\n",
       "  'created_at': '2023-07-05T21:11:31Z',\n",
       "  'creator': 'joaoaugustofrei',\n",
       "  'is_pull_request': False,\n",
       "  'labels': ['bug'],\n",
       "  'locked': False,\n",
       "  'milestone': None,\n",
       "  'number': 6113,\n",
       "  'state': 'open',\n",
       "  'title': 'Quarto not recognizing python packages',\n",
       "  'url': 'https://github.com/quarto-dev/quarto-cli/issues/6113'}}"
      ]
     },
     "execution_count": null,
     "metadata": {},
     "output_type": "execute_result"
    }
   ],
   "source": [
    "remote_data['train'][0]"
   ]
  },
  {
   "cell_type": "code",
   "execution_count": null,
   "id": "17b9977d-bd58-4620-8455-f2d0ffa3cb99",
   "metadata": {
    "vscode": {
     "languageId": "python"
    }
   },
   "outputs": [],
   "source": []
  }
 ],
 "metadata": {
  "kernelspec": {
   "display_name": "python3",
   "language": "python",
   "name": "python3"
  }
 },
 "nbformat": 4,
 "nbformat_minor": 5
}
