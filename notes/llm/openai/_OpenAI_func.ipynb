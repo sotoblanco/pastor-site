{
 "cells": [
  {
   "cell_type": "code",
   "execution_count": null,
   "id": "dd0a60a8-ba5d-4830-a775-c57071272c86",
   "metadata": {},
   "outputs": [],
   "source": [
    "from tools import unique_funcs, flatten_funcs, random_msg, chat_completion_request\n",
    "import tiktoken\n",
    "encoding = tiktoken.encoding_for_model(\"gpt-3.5-turbo\")"
   ]
  },
  {
   "cell_type": "code",
   "execution_count": null,
   "id": "88c54544-b2e9-4265-ba1b-a4238d9c3ee5",
   "metadata": {},
   "outputs": [],
   "source": [
    "msg = random_msg()\n",
    "resp, latency = chat_completion_request([msg], tools=unique_funcs(1))\n",
    "assert resp.status_code == 200\n",
    "content = resp.json()['choices'][0]['message']['content']\n",
    "if content: assert len(encoding.encode(content)) <= 15"
   ]
  },
  {
   "cell_type": "code",
   "execution_count": null,
   "id": "0852a937-28b6-4c4a-9e3f-c3249f891ad1",
   "metadata": {},
   "outputs": [
    {
     "data": {
      "text/plain": [
       "{'id': 'chatcmpl-8WLOGmmFf0vvoPm4uFvfi5GQWxeoV',\n",
       " 'object': 'chat.completion',\n",
       " 'created': 1702719412,\n",
       " 'model': 'gpt-3.5-turbo-0613',\n",
       " 'choices': [{'index': 0,\n",
       "   'message': {'role': 'assistant',\n",
       "    'content': 'Of course! I can help you plan a road trip itinerary that includes'},\n",
       "   'logprobs': None,\n",
       "   'finish_reason': 'length'}],\n",
       " 'usage': {'prompt_tokens': 1071,\n",
       "  'completion_tokens': 15,\n",
       "  'total_tokens': 1086},\n",
       " 'system_fingerprint': None}"
      ]
     },
     "execution_count": null,
     "metadata": {},
     "output_type": "execute_result"
    }
   ],
   "source": [
    "resp.json()"
   ]
  },
  {
   "cell_type": "code",
   "execution_count": null,
   "id": "b8a59b79-4fd8-4eef-b9a3-49ef2630688b",
   "metadata": {},
   "outputs": [
    {
     "data": {
      "text/plain": [
       "{'id': 'chatcmpl-8WLOKLs7sGZAbukgrfY3JhpHiKsKa',\n",
       " 'object': 'chat.completion',\n",
       " 'created': 1702719416,\n",
       " 'model': 'gpt-3.5-turbo-0613',\n",
       " 'choices': [{'index': 0,\n",
       "   'message': {'role': 'assistant',\n",
       "    'content': \"Here's a road trip itinerary that includes landmarks and national parks across the United\"},\n",
       "   'logprobs': None,\n",
       "   'finish_reason': 'length'}],\n",
       " 'usage': {'prompt_tokens': 723, 'completion_tokens': 15, 'total_tokens': 738},\n",
       " 'system_fingerprint': None}"
      ]
     },
     "execution_count": null,
     "metadata": {},
     "output_type": "execute_result"
    }
   ],
   "source": [
    "resp, latency = chat_completion_request([msg, flatten_funcs(unique_funcs(2))])\n",
    "resp.json()"
   ]
  },
  {
   "cell_type": "code",
   "execution_count": null,
   "id": "863f7d3f-1420-40d5-b4b7-172b996da873",
   "metadata": {},
   "outputs": [
    {
     "data": {
      "text/plain": [
       "{'id': 'chatcmpl-8WLOM3Y2JW6dWWe48IYVBgTXcxIkH',\n",
       " 'object': 'chat.completion',\n",
       " 'created': 1702719418,\n",
       " 'model': 'gpt-3.5-turbo-0613',\n",
       " 'choices': [{'index': 0,\n",
       "   'message': {'role': 'assistant',\n",
       "    'content': 'Of course! Planning a road trip across the United States to visit landmarks and'},\n",
       "   'logprobs': None,\n",
       "   'finish_reason': 'length'}],\n",
       " 'usage': {'prompt_tokens': 37, 'completion_tokens': 15, 'total_tokens': 52},\n",
       " 'system_fingerprint': None}"
      ]
     },
     "execution_count": null,
     "metadata": {},
     "output_type": "execute_result"
    }
   ],
   "source": [
    "resp, latency = chat_completion_request([msg])\n",
    "resp.json()"
   ]
  },
  {
   "cell_type": "code",
   "execution_count": null,
   "id": "2a10de21-b386-4d7c-87dc-cbbccab2fd2d",
   "metadata": {},
   "outputs": [],
   "source": [
    "def bench(n_tries=10):\n",
    "    msg = random_msg()\n",
    "    results = []\n",
    "    for func_loc in ['System Message', 'Tools', None]:\n",
    "        for i in range(n_tries):\n",
    "            messages = [msg]\n",
    "            func_tools = unique_funcs(i) if func_loc is not None else None\n",
    "\n",
    "            if func_loc == 'System Message': \n",
    "                messages.append(flatten_funcs(func_tools))\n",
    "                func_tools = None\n",
    "\n",
    "            resp, latency = chat_completion_request(messages, tools=func_tools)\n",
    "            \n",
    "            results.append({'func_loc': func_loc, 'latency': latency, 'response':resp.json()})\n",
    "            print(f\"Func-Location: {func_loc} Iteration: {i} Latency: {latency:.2f}\")\n",
    "    return results"
   ]
  },
  {
   "cell_type": "code",
   "execution_count": null,
   "id": "f634f2e1-89a9-40a9-acf3-e0dab6a20bbe",
   "metadata": {},
   "outputs": [
    {
     "name": "stdout",
     "output_type": "stream",
     "text": [
      "Func-Location: System Message Iteration: 0 Latency: 0.92\n",
      "Func-Location: System Message Iteration: 1 Latency: 0.96\n",
      "Func-Location: System Message Iteration: 2 Latency: 0.98\n",
      "Func-Location: System Message Iteration: 3 Latency: 0.91\n",
      "Func-Location: System Message Iteration: 4 Latency: 0.93\n",
      "Func-Location: System Message Iteration: 5 Latency: 0.86\n",
      "Func-Location: System Message Iteration: 6 Latency: 0.89\n",
      "Func-Location: System Message Iteration: 7 Latency: 0.90\n",
      "Func-Location: System Message Iteration: 8 Latency: 0.76\n",
      "Func-Location: System Message Iteration: 9 Latency: 0.88\n",
      "Func-Location: Tools Iteration: 0 Latency: 0.89\n",
      "Func-Location: Tools Iteration: 1 Latency: 1.21\n",
      "Func-Location: Tools Iteration: 2 Latency: 0.89\n",
      "Func-Location: Tools Iteration: 3 Latency: 1.16\n",
      "Func-Location: Tools Iteration: 4 Latency: 0.89\n",
      "Func-Location: Tools Iteration: 5 Latency: 0.85\n",
      "Func-Location: Tools Iteration: 6 Latency: 1.12\n",
      "Func-Location: Tools Iteration: 7 Latency: 0.94\n",
      "Func-Location: Tools Iteration: 8 Latency: 0.91\n",
      "Func-Location: Tools Iteration: 9 Latency: 0.92\n",
      "Func-Location: None Iteration: 0 Latency: 1.01\n",
      "Func-Location: None Iteration: 1 Latency: 0.91\n",
      "Func-Location: None Iteration: 2 Latency: 0.86\n",
      "Func-Location: None Iteration: 3 Latency: 0.92\n",
      "Func-Location: None Iteration: 4 Latency: 0.86\n",
      "Func-Location: None Iteration: 5 Latency: 0.93\n",
      "Func-Location: None Iteration: 6 Latency: 0.91\n",
      "Func-Location: None Iteration: 7 Latency: 0.93\n",
      "Func-Location: None Iteration: 8 Latency: 0.81\n",
      "Func-Location: None Iteration: 9 Latency: 0.85\n"
     ]
    }
   ],
   "source": [
    "bench_results = bench()"
   ]
  },
  {
   "cell_type": "code",
   "execution_count": null,
   "id": "603953b7-3671-49c0-8331-586a8e698682",
   "metadata": {},
   "outputs": [
    {
     "data": {
      "text/plain": [
       "{'func_loc': None,\n",
       " 'latency': 0.8525130748748779,\n",
       " 'response': {'id': 'chatcmpl-8WLOqG9paOug1utknFZTERyc76LWm',\n",
       "  'object': 'chat.completion',\n",
       "  'created': 1702719448,\n",
       "  'model': 'gpt-3.5-turbo-0613',\n",
       "  'choices': [{'index': 0,\n",
       "    'message': {'role': 'assistant',\n",
       "     'content': 'Absolutely! Here are a few mystery novels that strike a balance between being engaging'},\n",
       "    'logprobs': None,\n",
       "    'finish_reason': 'length'}],\n",
       "  'usage': {'prompt_tokens': 36, 'completion_tokens': 15, 'total_tokens': 51},\n",
       "  'system_fingerprint': None}}"
      ]
     },
     "execution_count": null,
     "metadata": {},
     "output_type": "execute_result"
    }
   ],
   "source": [
    "bench_results[-1]"
   ]
  },
  {
   "cell_type": "code",
   "execution_count": null,
   "id": "c4d47730-1b63-4bcf-a765-c31996525d27",
   "metadata": {},
   "outputs": [
    {
     "data": {
      "text/plain": [
       "{'func_loc': 'System Message',\n",
       " 'latency': 0.9196739196777344,\n",
       " 'response': {'id': 'chatcmpl-8WLOPxKCHidmgnVOEqQukn5p8pPhQ',\n",
       "  'object': 'chat.completion',\n",
       "  'created': 1702719421,\n",
       "  'model': 'gpt-3.5-turbo-0613',\n",
       "  'choices': [{'index': 0,\n",
       "    'message': {'role': 'assistant',\n",
       "     'content': 'Sure! Here are some mystery novels that are engaging but not too dark:\\n\\n'},\n",
       "    'logprobs': None,\n",
       "    'finish_reason': 'length'}],\n",
       "  'usage': {'prompt_tokens': 722,\n",
       "   'completion_tokens': 15,\n",
       "   'total_tokens': 737},\n",
       "  'system_fingerprint': None}}"
      ]
     },
     "execution_count": null,
     "metadata": {},
     "output_type": "execute_result"
    }
   ],
   "source": [
    "bench_results[0]"
   ]
  },
  {
   "cell_type": "code",
   "execution_count": null,
   "id": "3c9cc3b8-07fb-4101-b51d-3117361dab7f",
   "metadata": {},
   "outputs": [],
   "source": []
  }
 ],
 "metadata": {
  "kernelspec": {
   "display_name": "python3",
   "language": "python",
   "name": "python3"
  }
 },
 "nbformat": 4,
 "nbformat_minor": 5
}
